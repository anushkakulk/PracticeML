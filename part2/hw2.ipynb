{
 "cells": [
  {
   "cell_type": "code",
   "execution_count": 11,
   "metadata": {},
   "outputs": [
    {
     "name": "stdout",
     "output_type": "stream",
     "text": [
      "1)  292.05000000000007 \n",
      "\n",
      "2)  10.449999999999996 \n",
      "\n",
      "3)  -3.49 \n",
      "\n",
      "4)  -0.4699999999999998 \n",
      "\n",
      "5)  0.3489999999999999 \n",
      "\n",
      "6)  -3.7199999999999998 \n",
      "\n",
      "7) \n",
      " [[-3.72  0.12  0.24]\n",
      " [-1.86  0.06  0.12]\n",
      " [ 0.    0.    0.  ]\n",
      " [ 0.31 -0.01 -0.02]\n",
      " [-3.72  0.12  0.24]] \n",
      "\n",
      "8)  -2987.2000000000003 \n",
      "\n",
      "9)  -2.774444444444445 \n",
      "\n",
      "10) \n",
      " [[ 8.8684]\n",
      " [-4.502 ]\n",
      " [-3.0041]\n",
      " [-5.5886]] \n",
      "\n"
     ]
    }
   ],
   "source": [
    "import numpy as np\n",
    "from numpy import genfromtxt\n",
    "A = genfromtxt('hw_2_A.csv', delimiter=',')\n",
    "B = genfromtxt('hw_2_B.csv', delimiter=',')\n",
    "C = genfromtxt('hw_2_C.csv', delimiter=',')\n",
    "D = genfromtxt('hw_2_D.csv', delimiter=',')\n",
    "E = genfromtxt('hw_2_E.csv', delimiter=',')\n",
    "x = np.reshape(genfromtxt('hw_2_x.csv', delimiter=','),  (-1,1))\n",
    "y = np.reshape(genfromtxt('hw_2_y.csv', delimiter=','),  (-1,1))\n",
    "z = np.reshape(genfromtxt('hw_2_z.csv', delimiter=','),  (-1,1))\n",
    "\n",
    "# max(⟨A, A⟩)\n",
    "print (\"1) \", np.max(np.trace(A.dot(A.T))), \"\\n\")\n",
    "\n",
    "# max(⟨A, B⟩)\n",
    "print (\"2) \", np.min(np.trace(A.dot(B.T))), \"\\n\")\n",
    "\n",
    "# sum(⟨C, D⟩)\n",
    "print (\"3) \", np.sum(np.trace(C.dot(D.T))), \"\\n\")\n",
    "\n",
    "# average((C+D)x)\n",
    "print (\"4) \", np.average((C+D).dot(x)), \"\\n\")\n",
    "\n",
    "# max(⟨C⊤, D⊤⟩x)\n",
    "print (\"5) \", np.max(np.trace((C.T).dot(D.T.T))*(x)) , \"\\n\")\n",
    "\n",
    "# min(x ⊗ z)\n",
    "print (\"6) \", np.min(x.dot(z.T)), \"\\n\")\n",
    "\n",
    "# (x ⊗ z)\n",
    "print (\"7) \\n\", x.dot(z.T), \"\\n\")\n",
    "\n",
    "# sum(A + B − 10)\n",
    "print (\"8) \", np.sum(A+B-10), \"\\n\")\n",
    "\n",
    "# average(A⊤B)\n",
    "print (\"9) \", np.average(A.T.dot(B)) , \"\\n\")\n",
    "\n",
    "# E⊤C⊤Dx\n",
    "print (\"10) \\n\", E.T.dot(C.T).dot(D).dot(x), \"\\n\")\n",
    "\n"
   ]
  }
 ],
 "metadata": {
  "kernelspec": {
   "display_name": "machine_learning",
   "language": "python",
   "name": "python3"
  },
  "language_info": {
   "codemirror_mode": {
    "name": "ipython",
    "version": 3
   },
   "file_extension": ".py",
   "mimetype": "text/x-python",
   "name": "python",
   "nbconvert_exporter": "python",
   "pygments_lexer": "ipython3",
   "version": "3.12.0"
  }
 },
 "nbformat": 4,
 "nbformat_minor": 2
}
