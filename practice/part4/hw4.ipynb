{
 "cells": [
  {
   "cell_type": "code",
   "execution_count": 31,
   "metadata": {},
   "outputs": [
    {
     "name": "stdout",
     "output_type": "stream",
     "text": [
      "Q1a) empirical variance =  17.2\n",
      "Q2a) empirical variance =  68.26666666666668\n"
     ]
    }
   ],
   "source": [
    "import numpy as np \n",
    "\n",
    "## Q1 empirical variance\n",
    "a = [4, 7, 9, 11, 15]\n",
    "a_mean = np.sum(a) / (len(a))\n",
    "meanDiffSquared = 0\n",
    "for i in range(len(a)):\n",
    "    meanDiffSquared += (a[i] - a_mean)**2\n",
    "a_var = (1 / (len(a) - 1)) * meanDiffSquared\n",
    "print(\"Q1a) empirical variance = \", a_var )\n",
    "\n",
    "b = [18, 22 , 25, 30, 35, 40]\n",
    "b_mean = np.sum(b) / (len(b))\n",
    "meanDiffSquared = 0\n",
    "for i in range(len(b)):\n",
    "    meanDiffSquared += (b[i] - b_mean)**2\n",
    "b_var = (1 / (len(b) - 1)) * meanDiffSquared\n",
    "print(\"Q2a) empirical variance = \", b_var )\n",
    "\n",
    "## Q2 population variance\n",
    "c = [12, 14, 16, 18, 20]\n",
    "\n",
    "\n",
    "d = [28, 32, 36, 40, 44, 48]\n",
    "\n",
    "\n"
   ]
  }
 ],
 "metadata": {
  "kernelspec": {
   "display_name": "machine_learning",
   "language": "python",
   "name": "python3"
  },
  "language_info": {
   "codemirror_mode": {
    "name": "ipython",
    "version": 3
   },
   "file_extension": ".py",
   "mimetype": "text/x-python",
   "name": "python",
   "nbconvert_exporter": "python",
   "pygments_lexer": "ipython3",
   "version": "3.12.0"
  }
 },
 "nbformat": 4,
 "nbformat_minor": 2
}
