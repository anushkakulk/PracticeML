{
 "cells": [
  {
   "cell_type": "code",
   "execution_count": 8,
   "metadata": {},
   "outputs": [
    {
     "name": "stdout",
     "output_type": "stream",
     "text": [
      "    Outlook  Temp  Hum  Windy  Golf\n",
      "0         1     1    0      0     0\n",
      "1         1     1    0      1     0\n",
      "2         0     1    0      0     1\n",
      "3         2     2    0      0     1\n",
      "4         2     0    1      0     1\n",
      "5         2     0    1      1     0\n",
      "6         0     0    1      1     1\n",
      "7         1     2    0      0     0\n",
      "8         1     0    1      0     1\n",
      "9         2     2    1      0     1\n",
      "10        1     2    1      1     1\n",
      "11        0     2    0      1     1\n",
      "12        0     1    1      0     1\n",
      "13        2     2    0      1     0 \n",
      "\n",
      "[28 31 11]\n",
      "4.26606619289886\n"
     ]
    }
   ],
   "source": [
    "import numpy as np\n",
    "from sklearn.preprocessing import LabelEncoder\n",
    "from matplotlib import pyplot as plt\n",
    "import pandas as pd\n",
    "\n",
    "data = pd.read_csv('golf.csv')\n",
    "enc = LabelEncoder()\n",
    "\n",
    "data['Outlook'] = enc.fit_transform(data['Outlook'])\n",
    "data['Temp'] = enc.fit_transform(data['Temp'])\n",
    "data['Hum'] = enc.fit_transform(data['Hum'])\n",
    "data['Windy'] = enc.fit_transform(data['Windy'])\n",
    "data['Golf'] = enc.fit_transform(data['Golf'])\n",
    "\n",
    "print (data, '\\n')\n",
    "\n",
    "def entropy(X):\n",
    "   unique_num, counts = np.unique(X, return_counts= True)\n",
    "   print(counts)\n",
    "   probs = counts / len(X)\n",
    "   entropy = np.sum(probs * np.log2(probs))\n",
    "   return entropy\n",
    "\n",
    "def conditional_entropy(X, Y):\n",
    "   unique_num, counts = np.unique(Y, return_counts= True)\n",
    "   probs = counts/len(Y)\n",
    "   cond_entropy = 0\n",
    "   for y, prob_y in zip (unique_num, probs):\n",
    "      idx = np.where(Y == y)\n",
    "      cond_entropy += prob_y * entropy(X[idx])\n",
    "   return cond_entropy     \n",
    "\n",
    "print (entropy(data))"
   ]
  }
 ],
 "metadata": {
  "kernelspec": {
   "display_name": "machine_learning",
   "language": "python",
   "name": "python3"
  },
  "language_info": {
   "codemirror_mode": {
    "name": "ipython",
    "version": 3
   },
   "file_extension": ".py",
   "mimetype": "text/x-python",
   "name": "python",
   "nbconvert_exporter": "python",
   "pygments_lexer": "ipython3",
   "version": "3.12.0"
  }
 },
 "nbformat": 4,
 "nbformat_minor": 2
}
