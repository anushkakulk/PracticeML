{
 "cells": [
  {
   "cell_type": "code",
   "execution_count": 7,
   "metadata": {},
   "outputs": [
    {
     "name": "stdout",
     "output_type": "stream",
     "text": [
      "[[ 1.06528176e-08  7.07106789e-01]\n",
      " [-7.07106773e-01  5.32640881e-09]]\n"
     ]
    }
   ],
   "source": [
    "import numpy as np\n",
    "from matplotlib import pyplot as plt\n",
    "\n",
    "## hard svm \n",
    "X = np.array([[0,2],\n",
    "              [0,1],\n",
    "              [1,0],\n",
    "              [3,4],\n",
    "              [5,2],\n",
    "              [5,3]])\n",
    "\n",
    "y = np.array([[-1], [-1],[-1],[1],[1],[1]])\n",
    "w = ([0], [1])\n",
    "\n",
    "def dw(X, y, w):\n",
    "    return (2 * w) - np.dot(np.transpose(X), y)\n",
    "\n",
    "learning_rate = 0.01 \n",
    "iters = 1000\n",
    "\n",
    "def grad(X, y, w):\n",
    "    for _ in range (iters):\n",
    "        w = w - learning_rate * dw(X, y, w)\n",
    "    return w\n",
    "\n",
    "w = grad(X, y, w)\n",
    "w = w / np.linalg.norm(w)\n",
    "\n",
    "a = (X[3].dot(w))\n",
    "c = (X[0].dot(w))\n",
    "\n",
    "mid_point = ((a + c)/2) * w\n",
    "print (w)"
   ]
  }
 ],
 "metadata": {
  "kernelspec": {
   "display_name": "machine_learning",
   "language": "python",
   "name": "python3"
  },
  "language_info": {
   "codemirror_mode": {
    "name": "ipython",
    "version": 3
   },
   "file_extension": ".py",
   "mimetype": "text/x-python",
   "name": "python",
   "nbconvert_exporter": "python",
   "pygments_lexer": "ipython3",
   "version": "3.12.0"
  }
 },
 "nbformat": 4,
 "nbformat_minor": 2
}
