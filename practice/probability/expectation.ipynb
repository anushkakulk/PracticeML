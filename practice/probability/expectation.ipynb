{
 "cells": [
  {
   "cell_type": "code",
   "execution_count": 4,
   "metadata": {},
   "outputs": [
    {
     "name": "stdout",
     "output_type": "stream",
     "text": [
      "0.9249903178221726\n"
     ]
    }
   ],
   "source": [
    "import numpy as np;\n",
    "from scipy.integrate import quad;\n",
    "import math\n",
    "\n",
    "def p(x):\n",
    "   return x**3 - x**2 - 0.1*x + 0.6\n",
    "\n",
    "def e(x):\n",
    "   return x * p(x)\n",
    "\n",
    "I, err = quad(e, 0, 1.54338)\n",
    "\n",
    "print(I) ## expected val "
   ]
  }
 ],
 "metadata": {
  "kernelspec": {
   "display_name": "machine_learning",
   "language": "python",
   "name": "python3"
  },
  "language_info": {
   "codemirror_mode": {
    "name": "ipython",
    "version": 3
   },
   "file_extension": ".py",
   "mimetype": "text/x-python",
   "name": "python",
   "nbconvert_exporter": "python",
   "pygments_lexer": "ipython3",
   "version": "3.12.0"
  }
 },
 "nbformat": 4,
 "nbformat_minor": 2
}
