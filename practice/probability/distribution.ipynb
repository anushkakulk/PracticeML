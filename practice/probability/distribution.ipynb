{
 "cells": [
  {
   "cell_type": "code",
   "execution_count": null,
   "metadata": {},
   "outputs": [],
   "source": [
    "from scipy.integrate import quad\n",
    "import numpy as np\n",
    "from numpy import exp\n",
    "\n",
    "def integrand(x):\n",
    "    return 2* exp(-2*x)\n",
    "\n",
    "\n",
    "## p (x = 8 | 10)\n",
    "\n",
    "\n"
   ]
  }
 ],
 "metadata": {
  "language_info": {
   "name": "python"
  }
 },
 "nbformat": 4,
 "nbformat_minor": 2
}
