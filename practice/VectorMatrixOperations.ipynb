{
  "nbformat": 4,
  "nbformat_minor": 0,
  "metadata": {
    "colab": {
      "provenance": [],
      "authorship_tag": "ABX9TyPmeKYYgaZ8XMox0fign9Et",
      "include_colab_link": true
    },
    "kernelspec": {
      "name": "python3",
      "display_name": "Python 3"
    },
    "language_info": {
      "name": "python"
    }
  },
  "cells": [
    {
      "cell_type": "markdown",
      "metadata": {
        "id": "view-in-github",
        "colab_type": "text"
      },
      "source": [
        "<a href=\"https://colab.research.google.com/github/anushkakulk/PracticeML/blob/main/practice/VectorMatrixOperations.ipynb\" target=\"_parent\"><img src=\"https://colab.research.google.com/assets/colab-badge.svg\" alt=\"Open In Colab\"/></a>"
      ]
    },
    {
      "cell_type": "code",
      "execution_count": null,
      "metadata": {
        "colab": {
          "base_uri": "https://localhost:8080/"
        },
        "id": "IjwkaoD_XO3h",
        "outputId": "142a3560-c860-47df-b2f4-e35bd376cf92"
      },
      "outputs": [
        {
          "output_type": "stream",
          "name": "stdout",
          "text": [
            "[[1]\n",
            " [2]\n",
            " [3]] \n",
            "\n",
            "[[3]\n",
            " [1]\n",
            " [4]] \n",
            "\n",
            "[[1 2 3]\n",
            " [3 2 1]\n",
            " [3 1 1]] \n",
            "\n",
            "[[ 3  6  9]\n",
            " [ 1  2  3]\n",
            " [ 4  8 12]] \n",
            "\n",
            "[[14]] \n",
            "\n",
            "[[58]] \n",
            "\n",
            "[[ 3]\n",
            " [ 2]\n",
            " [12]] \n",
            "\n",
            "39 \n",
            "\n"
          ]
        }
      ],
      "source": [
        "import numpy as np\n",
        "from numpy import array\n",
        "from numpy import trace\n",
        "\n",
        "v = array([[1], [2], [3]])\n",
        "print(v, \"\\n\")\n",
        "\n",
        "u = array([[3], [1], [4]])\n",
        "print(u, \"\\n\")\n",
        "\n",
        "A = array([[1,2,3], [3,2,1], [3,1,1]])\n",
        "print(A, \"\\n\")\n",
        "\n",
        "print(u.dot(v.T), \"\\n\")\n",
        "print(v.T.dot(v), \"\\n\")\n",
        "print(v.T.dot(A).dot(v), \"\\n\")\n",
        "print(v*u, \"\\n\")\n",
        "print(trace(A.dot(A.T)), \"\\n\")"
      ]
    },
    {
      "cell_type": "code",
      "source": [
        "import numpy as np\n",
        "from numpy import array\n",
        "from numpy import trace\n",
        "\n",
        "x = array([[2], [6]])\n",
        "\n",
        "y = array([[1], [0]])\n",
        "\n",
        "X = array([[7, 5], [3, 6]])\n",
        "\n",
        "Y = array([[2, 4], [1, 0]])\n",
        "\n",
        "Z = array([[4, -1, 0], [1, 1, 1]])\n",
        "\n",
        "\n",
        "print((trace(x.dot(x.T))) + x.T.dot(y), \"\\n\")\n",
        "\n",
        "print(x.T.dot(y), \"\\n\")\n",
        "\n",
        "print(Y*X, \"\\n\")\n",
        "\n",
        "print(2*X + 2*Y + X.T.dot(Y), \"\\n\")\n",
        "\n",
        "print(trace(Y.dot(Y.T)), \"\\n\")\n",
        "\n",
        "print(Z.dot(Z.T).dot(x), \"\\n\")"
      ],
      "metadata": {
        "colab": {
          "base_uri": "https://localhost:8080/"
        },
        "id": "i1muGODJXmg9",
        "outputId": "f1b613f0-c122-49ea-e408-ce6e0975b1c7"
      },
      "execution_count": null,
      "outputs": [
        {
          "output_type": "stream",
          "name": "stdout",
          "text": [
            "[[42]] \n",
            "\n",
            "[[2]] \n",
            "\n",
            "[[14 20]\n",
            " [ 3  0]] \n",
            "\n",
            "[[35 46]\n",
            " [24 32]] \n",
            "\n",
            "21 \n",
            "\n",
            "[[52]\n",
            " [24]] \n",
            "\n"
          ]
        }
      ]
    },
    {
      "cell_type": "code",
      "source": [
        "import numpy as np\n",
        "from numpy import array\n",
        "from numpy import trace\n",
        "\n",
        "x = array([[2], [2], [6]])\n",
        "\n",
        "y = array([[1], [0]])\n",
        "\n",
        "X = array([[-4, 7, 5], [1, -9, 2], [8, 3, 6]])\n",
        "\n",
        "Y = array([[2, 4, 6], [1, 0, 13], [-4, 5, 5]])\n",
        "\n",
        "Z = array([[4, -1, 0], [1, 1, 1]])\n",
        "\n",
        "\n",
        "print(2*X + 2*Y + X.T.dot(Y))\n",
        "print(X.T.dot(Y))\n",
        "print(Y.dot(Z.T))\n",
        "print(Z.T.dot(Z).dot(x))\n"
      ],
      "metadata": {
        "colab": {
          "base_uri": "https://localhost:8080/"
        },
        "id": "OwNGOScW4u_6",
        "outputId": "b316f8f6-b372-4c89-9b41-1c81b6d8f56b"
      },
      "execution_count": null,
      "outputs": [
        {
          "output_type": "stream",
          "name": "stdout",
          "text": [
            "[[-43  46  51]\n",
            " [ -3  25 -30]\n",
            " [ -4  66 108]]\n",
            "[[-39  24  29]\n",
            " [ -7  43 -60]\n",
            " [-12  50  86]]\n",
            "[[  4  12]\n",
            " [  4  14]\n",
            " [-21   6]]\n",
            "[[34]\n",
            " [ 4]\n",
            " [10]]\n"
          ]
        }
      ]
    },
    {
      "cell_type": "code",
      "source": [
        "import numpy as np\n",
        "from numpy import array\n",
        "from numpy import trace\n",
        "\n",
        "\n",
        "\n",
        "X = array([[1,7], [-8,6], [3,1]])\n",
        "\n",
        "Y = array([[0, 4, 6, ], [1, 0, 13], [-4, 5, 5]])\n",
        "\n",
        "Z = array([[4, -1, 0], [1, 1, 1]])\n"
      ],
      "metadata": {
        "id": "w2d2Q5BETVij"
      },
      "execution_count": null,
      "outputs": []
    }
  ]
}