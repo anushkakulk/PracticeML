{
  "nbformat": 4,
  "nbformat_minor": 0,
  "metadata": {
    "colab": {
      "provenance": [],
      "authorship_tag": "ABX9TyOHiVaCMCC6rebD4KE6u+Ul",
      "include_colab_link": true
    },
    "kernelspec": {
      "name": "python3",
      "display_name": "Python 3"
    },
    "language_info": {
      "name": "python"
    }
  },
  "cells": [
    {
      "cell_type": "markdown",
      "metadata": {
        "id": "view-in-github",
        "colab_type": "text"
      },
      "source": [
        "<a href=\"https://colab.research.google.com/github/anushkakulk/PracticeML/blob/main/practice/VectorMatrixOperations.ipynb\" target=\"_parent\"><img src=\"https://colab.research.google.com/assets/colab-badge.svg\" alt=\"Open In Colab\"/></a>"
      ]
    },
    {
      "cell_type": "code",
      "execution_count": null,
      "metadata": {
        "colab": {
          "base_uri": "https://localhost:8080/"
        },
        "id": "IjwkaoD_XO3h",
        "outputId": "142a3560-c860-47df-b2f4-e35bd376cf92"
      },
      "outputs": [
        {
          "output_type": "stream",
          "name": "stdout",
          "text": [
            "[[1]\n",
            " [2]\n",
            " [3]] \n",
            "\n",
            "[[3]\n",
            " [1]\n",
            " [4]] \n",
            "\n",
            "[[1 2 3]\n",
            " [3 2 1]\n",
            " [3 1 1]] \n",
            "\n",
            "[[ 3  6  9]\n",
            " [ 1  2  3]\n",
            " [ 4  8 12]] \n",
            "\n",
            "[[14]] \n",
            "\n",
            "[[58]] \n",
            "\n",
            "[[ 3]\n",
            " [ 2]\n",
            " [12]] \n",
            "\n",
            "39 \n",
            "\n"
          ]
        }
      ],
      "source": [
        "import numpy as np\n",
        "from numpy import array\n",
        "from numpy import trace\n",
        "\n",
        "v = array([[1], [2], [3]])\n",
        "print(v, \"\\n\")\n",
        "\n",
        "u = array([[3], [1], [4]])\n",
        "print(u, \"\\n\")\n",
        "\n",
        "A = array([[1,2,3], [3,2,1], [3,1,1]])\n",
        "print(A, \"\\n\")\n",
        "\n",
        "print(u.dot(v.T), \"\\n\")\n",
        "print(v.T.dot(v), \"\\n\")\n",
        "print(v.T.dot(A).dot(v), \"\\n\")\n",
        "print(v*u, \"\\n\")\n",
        "print(trace(A.dot(A.T)), \"\\n\")"
      ]
    },
    {
      "cell_type": "code",
      "source": [
        "import numpy as np\n",
        "from numpy import array\n",
        "from numpy import trace\n",
        "\n",
        "x = array([[2], [6]])\n",
        "\n",
        "y = array([[1], [0]])\n",
        "\n",
        "X = array([[7, 5], [3, 6]])\n",
        "\n",
        "Y = array([[2, 4], [1, 0]])\n",
        "\n",
        "Z = array([[4, -1, 0], [1, 1, 1]])\n",
        "\n",
        "\n",
        "print((trace(x.dot(x.T))) + x.T.dot(y), \"\\n\")\n",
        "\n",
        "print(x.T.dot(y), \"\\n\")\n",
        "\n",
        "print(Y*X, \"\\n\")\n",
        "\n",
        "print(2*X + 2*Y + X.T.dot(Y), \"\\n\")\n",
        "\n",
        "print(trace(Y.dot(Y.T)), \"\\n\")\n",
        "\n",
        "print(Z.dot(Z.T).dot(x), \"\\n\")"
      ],
      "metadata": {
        "colab": {
          "base_uri": "https://localhost:8080/"
        },
        "id": "i1muGODJXmg9",
        "outputId": "f1b613f0-c122-49ea-e408-ce6e0975b1c7"
      },
      "execution_count": null,
      "outputs": [
        {
          "output_type": "stream",
          "name": "stdout",
          "text": [
            "[[42]] \n",
            "\n",
            "[[2]] \n",
            "\n",
            "[[14 20]\n",
            " [ 3  0]] \n",
            "\n",
            "[[35 46]\n",
            " [24 32]] \n",
            "\n",
            "21 \n",
            "\n",
            "[[52]\n",
            " [24]] \n",
            "\n"
          ]
        }
      ]
    },
    {
      "cell_type": "code",
      "source": [
        "import numpy as np\n",
        "from numpy import array\n",
        "from numpy import trace\n",
        "\n",
        "x = array([[2], [2], [6]])\n",
        "\n",
        "y = array([[1], [0]])\n",
        "\n",
        "X = array([[-4, 7, 5], [1, -9, 2], [8, 3, 6]])\n",
        "\n",
        "Y = array([[2, 4, 6], [1, 0, 13], [-4, 5, 5]])\n",
        "\n",
        "Z = array([[4, -1, 0], [1, 1, 1]])\n",
        "\n",
        "\n",
        "print(2*X + 2*Y + X.T.dot(Y))\n",
        "print(X.T.dot(Y))\n",
        "print(Y.dot(Z.T))\n",
        "print(Z.T.dot(Z).dot(x))\n"
      ],
      "metadata": {
        "colab": {
          "base_uri": "https://localhost:8080/"
        },
        "id": "OwNGOScW4u_6",
        "outputId": "b316f8f6-b372-4c89-9b41-1c81b6d8f56b"
      },
      "execution_count": null,
      "outputs": [
        {
          "output_type": "stream",
          "name": "stdout",
          "text": [
            "[[-43  46  51]\n",
            " [ -3  25 -30]\n",
            " [ -4  66 108]]\n",
            "[[-39  24  29]\n",
            " [ -7  43 -60]\n",
            " [-12  50  86]]\n",
            "[[  4  12]\n",
            " [  4  14]\n",
            " [-21   6]]\n",
            "[[34]\n",
            " [ 4]\n",
            " [10]]\n"
          ]
        }
      ]
    },
    {
      "cell_type": "code",
      "source": [
        "import numpy as np\n",
        "from numpy import array\n",
        "from numpy import trace\n",
        "\n",
        "\n",
        "\n",
        "X = array([[1,7], [-8,6], [3,1]])\n",
        "\n",
        "Y = array([[0, 4, 6, -8], [1, -3, 5, 7], [11, 13, 9, 9], [-1, 0, 8, 7]])\n",
        "\n",
        "Z = array([[0, 4, 8, 1], [-3, 5, 17, 11]])\n",
        "\n",
        "A = array([[1, 17], [2, 14]])\n",
        "\n",
        "b = array([[19, -11, 13]])\n",
        "\n",
        "c = array([[12], [-11], [10]])\n",
        "\n",
        "x = array([[1], [2], [3]])\n",
        "\n",
        "y = array([[3, 3, 1]])\n",
        "\n",
        "print(((x.dot(y)).dot(y.T)).dot(x.T), \"\\n\")\n",
        "\n",
        "\n",
        "\n",
        "print(3*c - 9, \"\\n\")\n",
        "\n",
        "\n",
        "\n",
        "print((trace(A.dot(A.T)))*(A), \"\\n\")\n",
        "\n",
        "\n",
        "\n",
        "print(2*X.dot(Z), \"\\n\")\n",
        "\n",
        "\n",
        "\n",
        "print((b.dot(c))*(A), \"\\n\")\n",
        "\n",
        "\n",
        "\n",
        "print(b.dot(X).dot(A), \"\\n\")\n",
        "\n",
        "\n",
        "\n",
        "print(c*x, \"\\n\")\n",
        "\n",
        "\n",
        "\n",
        "print(b*y, \"\\n\")\n",
        "\n",
        "\n",
        "\n",
        "print(c.dot(x.T), \"\\n\")\n",
        "\n",
        "\n",
        "\n",
        "print(Y.dot(Z.T), \"\\n\")"
      ],
      "metadata": {
        "id": "w2d2Q5BETVij",
        "colab": {
          "base_uri": "https://localhost:8080/"
        },
        "outputId": "605c5706-840c-4beb-b9e3-ca7e0bcd7cd8"
      },
      "execution_count": 29,
      "outputs": [
        {
          "output_type": "stream",
          "name": "stdout",
          "text": [
            "[[ 19  38  57]\n",
            " [ 38  76 114]\n",
            " [ 57 114 171]] \n",
            "\n",
            "[[ 27]\n",
            " [-42]\n",
            " [ 21]] \n",
            "\n",
            "[[ 490 8330]\n",
            " [ 980 6860]] \n",
            "\n",
            "[[-42  78 254 156]\n",
            " [-36  -4  76 116]\n",
            " [ -6  34  82  28]] \n",
            "\n",
            "[[ 479 8143]\n",
            " [ 958 6706]] \n",
            "\n",
            "[[ 306 3602]] \n",
            "\n",
            "[[ 12]\n",
            " [-22]\n",
            " [ 30]] \n",
            "\n",
            "[[ 57 -33  13]] \n",
            "\n",
            "[[ 12  24  36]\n",
            " [-11 -22 -33]\n",
            " [ 10  20  30]] \n",
            "\n",
            "[[ 56  34]\n",
            " [ 35 144]\n",
            " [133 284]\n",
            " [ 71 216]] \n",
            "\n"
          ]
        }
      ]
    },
    {
      "cell_type": "code",
      "source": [
        "import numpy as np\n",
        "from numpy import array\n",
        "from numpy import trace\n",
        "\n",
        "\n",
        "# create two matrices and two vectors\n",
        "X = array([[2,3], [9,1]])\n",
        "Y = array([[1,0], [2,1]])\n",
        "x = array([[1], [3]])\n",
        "y = array([[2], [4]])\n",
        "\n",
        "# extract 1st col of X\n",
        "print(X[:,0], \"\\n\")\n",
        "\n",
        "# extract 2nd row of Y\n",
        "print(Y[1,:], \"\\n\")\n",
        "\n",
        "# extract bottom right val of X\n",
        "print(Y[1,1], \"\\n\")\n",
        "\n",
        "# adds X + Y\n",
        "print(X + Y, \"\\n\")\n",
        "\n",
        "# performs X + XY\n",
        "print(X + X.dot(Y), \"\\n\")\n",
        "\n",
        "# hadamard product x ⊙ y\n",
        "print(x*y, \"\\n\")\n",
        "\n",
        "# outer product x ⊗ y\n",
        "print(x.dot(y.T), \"\\n\")\n",
        "\n",
        "# dot product XY\n",
        "print(X.dot(Y), \"\\n\")\n",
        "\n",
        "# inner product ⟨X, Y⟩\n",
        "print(trace(X.dot(Y.T)), \"\\n\")"
      ],
      "metadata": {
        "colab": {
          "base_uri": "https://localhost:8080/"
        },
        "id": "HI2XWvi6X7Uc",
        "outputId": "ba35f726-4411-4f0a-b6e0-a934c67bae7c"
      },
      "execution_count": 38,
      "outputs": [
        {
          "output_type": "stream",
          "name": "stdout",
          "text": [
            "[2 9] \n",
            "\n",
            "[2 1] \n",
            "\n",
            "1 \n",
            "\n",
            "[[ 3  3]\n",
            " [11  2]] \n",
            "\n",
            "[[10  6]\n",
            " [20  2]] \n",
            "\n",
            "[[ 2]\n",
            " [12]] \n",
            "\n",
            "[[ 2  4]\n",
            " [ 6 12]] \n",
            "\n",
            "[[ 8  3]\n",
            " [11  1]] \n",
            "\n",
            "21 \n",
            "\n"
          ]
        }
      ]
    },
    {
      "cell_type": "code",
      "source": [
        "import numpy as np\n",
        "\n",
        "v = array([[5], [0], [0]])\n",
        "w = array([[8], [1], [1]])\n",
        "x = array([[3], [1], [2]])\n",
        "y = array([[2], [1], [0], [3]])\n",
        "z = array([[2], [5]])\n",
        "\n",
        "# vector v norms\n",
        "print(\"vector v norms: \",\n",
        "      np.linalg.norm(v, ord = 1), \"  \",\n",
        "     \"%.3f\" % np.linalg.norm(v, ord=2), \" \",\n",
        "      np.linalg.norm(v, ord = np.inf))\n",
        "\n",
        "# vector w norms\n",
        "print(\"vector w norms: \",\n",
        "      np.linalg.norm(w, ord = 1), \" \",\n",
        "      \"%.3f\" %np.linalg.norm(w, ord = 2), \" \",\n",
        "      np.linalg.norm(w, ord = np.inf))\n",
        "\n",
        "# vector x norms\n",
        "print(\"vector x norms: \",\n",
        "      np.linalg.norm(x, ord = 1), \"  \",\n",
        "      \"%.3f\" %np.linalg.norm(x, ord = 2), \" \",\n",
        "      np.linalg.norm(x, ord = np.inf))\n",
        "\n",
        "# vector y norms\n",
        "print(\"vector y norms: \",\n",
        "      np.linalg.norm(y, ord = 1), \"  \",\n",
        "      \"%.3f\" %np.linalg.norm(y, ord = 2), \" \",\n",
        "      np.linalg.norm(y, ord = np.inf))\n",
        "\n",
        "# vector z norms\n",
        "print(\"vector z norms: \",\n",
        "      np.linalg.norm(z, ord = 1), \"  \",\n",
        "      \"%.3f\" %np.linalg.norm(z, ord = 2), \" \",\n",
        "      np.linalg.norm(z, ord = np.inf))\n",
        "\n"
      ],
      "metadata": {
        "colab": {
          "base_uri": "https://localhost:8080/"
        },
        "id": "qZLNFLUuZje1",
        "outputId": "5c67f615-0eb9-4437-d73c-b405df861991"
      },
      "execution_count": 61,
      "outputs": [
        {
          "output_type": "stream",
          "name": "stdout",
          "text": [
            "vector v norms:  5.0    5.000   5.0\n",
            "vector w norms:  10.0   8.124   8.0\n",
            "vector x norms:  6.0    3.742   3.0\n",
            "vector y norms:  6.0    3.742   3.0\n",
            "vector z norms:  7.0    5.385   5.0\n"
          ]
        }
      ]
    }
  ]
}