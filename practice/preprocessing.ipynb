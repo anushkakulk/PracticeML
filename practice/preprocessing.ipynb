{
 "cells": [
  {
   "cell_type": "code",
   "execution_count": 17,
   "metadata": {},
   "outputs": [
    {
     "ename": "ModuleNotFoundError",
     "evalue": "No module named 'wuml'",
     "output_type": "error",
     "traceback": [
      "\u001b[0;31m---------------------------------------------------------------------------\u001b[0m",
      "\u001b[0;31mModuleNotFoundError\u001b[0m                       Traceback (most recent call last)",
      "Cell \u001b[0;32mIn[17], line 2\u001b[0m\n\u001b[1;32m      1\u001b[0m \u001b[38;5;28;01mimport\u001b[39;00m \u001b[38;5;21;01mnumpy\u001b[39;00m \u001b[38;5;28;01mas\u001b[39;00m \u001b[38;5;21;01mnp\u001b[39;00m\n\u001b[0;32m----> 2\u001b[0m \u001b[38;5;28;01mimport\u001b[39;00m \u001b[38;5;21;01mwplotlib\u001b[39;00m\n\u001b[1;32m      4\u001b[0m X \u001b[38;5;241m=\u001b[39m np\u001b[38;5;241m.\u001b[39marray( [ [\u001b[38;5;241m1\u001b[39m, \u001b[38;5;241m1\u001b[39m],\n\u001b[1;32m      5\u001b[0m                 [\u001b[38;5;241m2\u001b[39m, \u001b[38;5;241m1\u001b[39m],\n\u001b[1;32m      6\u001b[0m                 [\u001b[38;5;241m1.5\u001b[39m, \u001b[38;5;241m0\u001b[39m],\n\u001b[1;32m      7\u001b[0m                 [\u001b[38;5;241m3\u001b[39m, \u001b[38;5;241m2\u001b[39m]])\n\u001b[1;32m      9\u001b[0m y \u001b[38;5;241m=\u001b[39m np\u001b[38;5;241m.\u001b[39marray ([[\u001b[38;5;241m1\u001b[39m],\n\u001b[1;32m     10\u001b[0m                [\u001b[38;5;241m1\u001b[39m],\n\u001b[1;32m     11\u001b[0m                [\u001b[38;5;241m0\u001b[39m],\n\u001b[1;32m     12\u001b[0m                [\u001b[38;5;241m2\u001b[39m]])\n",
      "File \u001b[0;32m~/opt/anaconda3/envs/machine_learning/lib/python3.12/site-packages/wplotlib/__init__.py:4\u001b[0m\n\u001b[1;32m      2\u001b[0m \u001b[38;5;28;01mfrom\u001b[39;00m \u001b[38;5;21;01m.\u001b[39;00m\u001b[38;5;21;01mscatter\u001b[39;00m \u001b[38;5;28;01mimport\u001b[39;00m scatter\n\u001b[1;32m      3\u001b[0m \u001b[38;5;28;01mfrom\u001b[39;00m \u001b[38;5;21;01m.\u001b[39;00m\u001b[38;5;21;01mscatter3d\u001b[39;00m \u001b[38;5;28;01mimport\u001b[39;00m scatter3d\n\u001b[0;32m----> 4\u001b[0m \u001b[38;5;28;01mfrom\u001b[39;00m \u001b[38;5;21;01m.\u001b[39;00m\u001b[38;5;21;01mhistograms\u001b[39;00m \u001b[38;5;28;01mimport\u001b[39;00m histograms\n\u001b[1;32m      5\u001b[0m \u001b[38;5;28;01mfrom\u001b[39;00m \u001b[38;5;21;01m.\u001b[39;00m\u001b[38;5;21;01mheatMap\u001b[39;00m \u001b[38;5;28;01mimport\u001b[39;00m heatMap\n\u001b[1;32m      6\u001b[0m \u001b[38;5;28;01mfrom\u001b[39;00m \u001b[38;5;21;01m.\u001b[39;00m\u001b[38;5;21;01mclusters\u001b[39;00m \u001b[38;5;28;01mimport\u001b[39;00m plot_clusters\n",
      "File \u001b[0;32m~/opt/anaconda3/envs/machine_learning/lib/python3.12/site-packages/wplotlib/histograms.py:10\u001b[0m\n\u001b[1;32m      8\u001b[0m \u001b[38;5;28;01mimport\u001b[39;00m \u001b[38;5;21;01mnumpy\u001b[39;00m \u001b[38;5;28;01mas\u001b[39;00m \u001b[38;5;21;01mnp\u001b[39;00m\n\u001b[1;32m      9\u001b[0m \u001b[38;5;28;01mimport\u001b[39;00m \u001b[38;5;21;01mmatplotlib\u001b[39;00m\u001b[38;5;21;01m.\u001b[39;00m\u001b[38;5;21;01mpyplot\u001b[39;00m \u001b[38;5;28;01mas\u001b[39;00m \u001b[38;5;21;01mplt\u001b[39;00m\n\u001b[0;32m---> 10\u001b[0m \u001b[38;5;28;01mimport\u001b[39;00m \u001b[38;5;21;01mwuml\u001b[39;00m\n\u001b[1;32m     12\u001b[0m \u001b[38;5;28;01mclass\u001b[39;00m \u001b[38;5;21;01mhistograms\u001b[39;00m:\n\u001b[1;32m     13\u001b[0m \t\u001b[38;5;28;01mdef\u001b[39;00m \u001b[38;5;21m__init__\u001b[39m(\u001b[38;5;28mself\u001b[39m, x, num_bins\u001b[38;5;241m=\u001b[39m\u001b[38;5;241m10\u001b[39m, title\u001b[38;5;241m=\u001b[39m\u001b[38;5;124m'\u001b[39m\u001b[38;5;124m'\u001b[39m, fontsize\u001b[38;5;241m=\u001b[39m\u001b[38;5;241m12\u001b[39m, facecolor\u001b[38;5;241m=\u001b[39m\u001b[38;5;124m'\u001b[39m\u001b[38;5;124mblue\u001b[39m\u001b[38;5;124m'\u001b[39m, α\u001b[38;5;241m=\u001b[39m\u001b[38;5;241m0.5\u001b[39m, \n\u001b[1;32m     14\u001b[0m \t\t\txlabel\u001b[38;5;241m=\u001b[39m\u001b[38;5;124m'\u001b[39m\u001b[38;5;124m'\u001b[39m, ylabel\u001b[38;5;241m=\u001b[39m\u001b[38;5;124m'\u001b[39m\u001b[38;5;124m'\u001b[39m, ticker_fontsize\u001b[38;5;241m=\u001b[39m\u001b[38;5;241m9\u001b[39m, ticker_rotate\u001b[38;5;241m=\u001b[39m\u001b[38;5;241m0\u001b[39m,\n\u001b[1;32m     15\u001b[0m \t\t\tpath\u001b[38;5;241m=\u001b[39m\u001b[38;5;28;01mNone\u001b[39;00m, subplot\u001b[38;5;241m=\u001b[39m\u001b[38;5;28;01mNone\u001b[39;00m, ylogScale\u001b[38;5;241m=\u001b[39m\u001b[38;5;28;01mFalse\u001b[39;00m, show\u001b[38;5;241m=\u001b[39m\u001b[38;5;28;01mTrue\u001b[39;00m, normalize\u001b[38;5;241m=\u001b[39m\u001b[38;5;28;01mFalse\u001b[39;00m, \n\u001b[1;32m     16\u001b[0m \t\t\ttitle_font\u001b[38;5;241m=\u001b[39m\u001b[38;5;241m12\u001b[39m, xfont\u001b[38;5;241m=\u001b[39m\u001b[38;5;241m12\u001b[39m, yfont\u001b[38;5;241m=\u001b[39m\u001b[38;5;241m12\u001b[39m, figsize\u001b[38;5;241m=\u001b[39m\u001b[38;5;28;01mNone\u001b[39;00m):\n",
      "\u001b[0;31mModuleNotFoundError\u001b[0m: No module named 'wuml'"
     ]
    }
   ],
   "source": [
    "import numpy as np\n",
    "import wplotlib\n",
    "\n",
    "X = np.array( [ [1, 1],\n",
    "                [2, 1],\n",
    "                [1.5, 0],\n",
    "                [3, 2]])\n",
    "\n",
    "y = np.array ([[1],\n",
    "               [1],\n",
    "               [0],\n",
    "               [2]])\n",
    "phi = np.array ([  [1, 1, 1],\n",
    "                 [4, 2, 1],\n",
    "                 [2.25, 1.5 ,1],\n",
    "                 [9, 3, 1]])\n",
    "\n",
    "w = np.linalg.inv(phi.T.dot(phi)).dot(phi.T).dot(y)\n",
    "\n",
    "print(w)"
   ]
  }
 ],
 "metadata": {
  "kernelspec": {
   "display_name": "machine_learning",
   "language": "python",
   "name": "python3"
  },
  "language_info": {
   "codemirror_mode": {
    "name": "ipython",
    "version": 3
   },
   "file_extension": ".py",
   "mimetype": "text/x-python",
   "name": "python",
   "nbconvert_exporter": "python",
   "pygments_lexer": "ipython3",
   "version": "3.12.0"
  }
 },
 "nbformat": 4,
 "nbformat_minor": 2
}
