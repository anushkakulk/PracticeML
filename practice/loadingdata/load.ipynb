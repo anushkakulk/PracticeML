{
 "cells": [
  {
   "cell_type": "code",
   "execution_count": 44,
   "metadata": {},
   "outputs": [
    {
     "name": "stdout",
     "output_type": "stream",
     "text": [
      "25.0 \n",
      "\n",
      "2.0 \n",
      "\n",
      "2.0 \n",
      "\n",
      "[[4. 6. 2. 2. 4. 3.]\n",
      " [2. 4. 6. 6. 2. 1.]\n",
      " [6. 9. 6. 6. 6. 4.]\n",
      " [0. 1. 2. 2. 0. 0.]\n",
      " [5. 6. 4. 4. 5. 3.]\n",
      " [0. 0. 0. 0. 0. 0.]] \n",
      "\n",
      "[[ 62.]\n",
      " [ 82.]\n",
      " [122.]\n",
      " [ 22.]\n",
      " [ 88.]\n",
      " [  0.]] \n",
      "\n",
      "[[ 7.]\n",
      " [ 8.]\n",
      " [14.]\n",
      " [ 9.]\n",
      " [ 7.]\n",
      " [ 9.]]\n",
      "vector x norms:  2    3.0    2.236   2.0\n",
      "vector y norms:  3    5.0    3.000   2.0\n",
      "vector z norms:  2    3.0    2.236   2.0\n"
     ]
    }
   ],
   "source": [
    "import numpy as np\n",
    "from numpy import genfromtxt\n",
    "\n",
    "A = genfromtxt('test_A.csv', delimiter=',')\n",
    "B = genfromtxt('test_B.csv', delimiter=',')\n",
    "C = genfromtxt('test_C.csv', delimiter=',')\n",
    "x = np.reshape(genfromtxt('test_x.csv', delimiter=','),  (-1,1))\n",
    "\n",
    "y = np.reshape(genfromtxt('test_y.csv', delimiter=','),  (-1,1))\n",
    "z = np.reshape(genfromtxt('test_z.csv', delimiter=','),  (-1,1))\n",
    "\n",
    "\n",
    "print(np.trace(A.dot(A.T)), \"\\n\")\n",
    "print(np.trace(A*(B)), \"\\n\")\n",
    "print(np.trace(x.dot(y.T)), \"\\n\")\n",
    "print(A.dot(B.T), \"\\n\")\n",
    "print(A.dot(B.T).dot(C).dot(x), \"\\n\")\n",
    "print(C.dot(x+y))\n",
    "\n",
    "# vector x norms\n",
    "print(\"vector x norms: \",\n",
    "      np.count_nonzero(x), \"  \",\n",
    "      np.linalg.norm(x, ord = 1), \"  \",\n",
    "      \"%.3f\" %np.linalg.norm(x, ord = 2), \" \",\n",
    "      np.linalg.norm(x, ord = np.inf))\n",
    "\n",
    "# vector y norms\n",
    "print(\"vector y norms: \",\n",
    "      np.count_nonzero(y), \"  \",\n",
    "      np.linalg.norm(y, ord = 1), \"  \",\n",
    "      \"%.3f\" %np.linalg.norm(y, ord = 2), \" \",\n",
    "      np.linalg.norm(y, ord = np.inf))\n",
    "\n",
    "# vector z norms\n",
    "print(\"vector z norms: \",\n",
    "      np.count_nonzero(z), \"  \",\n",
    "      np.linalg.norm(z, ord = 1), \"  \",\n",
    "      \"%.3f\" %np.linalg.norm(z, ord = 2), \" \",\n",
    "      np.linalg.norm(z, ord = np.inf))\n"
   ]
  }
 ],
 "metadata": {
  "kernelspec": {
   "display_name": "machine_learning",
   "language": "python",
   "name": "python3"
  },
  "language_info": {
   "codemirror_mode": {
    "name": "ipython",
    "version": 3
   },
   "file_extension": ".py",
   "mimetype": "text/x-python",
   "name": "python",
   "nbconvert_exporter": "python",
   "pygments_lexer": "ipython3",
   "version": "3.12.0"
  }
 },
 "nbformat": 4,
 "nbformat_minor": 2
}
