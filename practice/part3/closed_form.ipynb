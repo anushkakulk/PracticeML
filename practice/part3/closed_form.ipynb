{
 "cells": [
  {
   "cell_type": "code",
   "execution_count": 15,
   "metadata": {},
   "outputs": [
    {
     "name": "stdout",
     "output_type": "stream",
     "text": [
      "closed form regression's w vector: \n",
      " [[-0.7]\n",
      " [ 1.3]]\n"
     ]
    }
   ],
   "source": [
    "import numpy as np \n",
    "from numpy import genfromtxt\n",
    "from numpy.random import randn\n",
    "x = np.transpose(([[0, 1, 2, 3]]))\n",
    "y = np.transpose(([[1, 0, 2, -2]]))\n",
    "\n",
    "Φ = np.hstack((x, np.ones((len(x), 1))))\n",
    "\n",
    "w = np.linalg.inv(Φ.T.dot(Φ)).dot(Φ.T.dot(y))\n",
    "print(\"closed form regression's w vector: \\n\", w)\n"
   ]
  }
 ],
 "metadata": {
  "kernelspec": {
   "display_name": "machine_learning",
   "language": "python",
   "name": "python3"
  },
  "language_info": {
   "codemirror_mode": {
    "name": "ipython",
    "version": 3
   },
   "file_extension": ".py",
   "mimetype": "text/x-python",
   "name": "python",
   "nbconvert_exporter": "python",
   "pygments_lexer": "ipython3",
   "version": "3.12.0"
  }
 },
 "nbformat": 4,
 "nbformat_minor": 2
}
