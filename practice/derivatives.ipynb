{
 "cells": [
  {
   "cell_type": "code",
   "execution_count": 10,
   "metadata": {},
   "outputs": [
    {
     "name": "stdout",
     "output_type": "stream",
     "text": [
      "Auto deriv: 293.474, Theoretical deriv 293.474\n",
      "Auto deriv: 11593.890, Theoretical deriv 11593.890\n",
      "Auto deriv: -18.149, Theoretical deriv -18.149\n",
      "Auto deriv: -0.247, Theoretical deriv -0.247\n",
      "Auto deriv: -0.196, Theoretical deriv -0.196\n",
      "Auto deriv: 122.142, Theoretical deriv 122.142\n",
      "Auto deriv: 1669.278, Theoretical deriv 1669.278\n",
      "Auto deriv: 67.729, Theoretical deriv 67.729\n",
      "Auto deriv: -1.023, Theoretical deriv -1.023\n",
      "Auto deriv: 905.945, Theoretical deriv 905.945\n",
      "Area = 2.67\n"
     ]
    }
   ],
   "source": [
    "import autograd.numpy as np\n",
    "from autograd.numpy import log\n",
    "from autograd.numpy import exp\n",
    "from autograd import grad\n",
    "from scipy.integrate import quad\n",
    "import math\n",
    "\n",
    "\n",
    "def f(x):\n",
    "    return pow((pow(math.e, 2*x) + 1), 3) + log(x*x) # put the original function\n",
    "def g(x):\n",
    "    return (3 * pow((pow(math.e, 2*x) + 1), 2) * 2 * pow(math.e, 2*x)) + 2/x # put your hand calculated derivative\n",
    "\n",
    "auto_grad = grad(f)\n",
    "\n",
    "for (i) in range(10):\n",
    "    x = np.random.randn()\n",
    "    print('Auto deriv: %.3f, Theoretical deriv %.3f'%(auto_grad(x), g(x)))\n",
    "\n",
    "\n",
    "def h(x):\n",
    "    return (x*x) - x + 1 # put the integral\n",
    "\n",
    "A, err = quad(h, 0, 2) # put the bounds of the integral\n",
    "print('Area = %.2f'%A)"
   ]
  }
 ],
 "metadata": {
  "kernelspec": {
   "display_name": "machine_learning",
   "language": "python",
   "name": "python3"
  },
  "language_info": {
   "codemirror_mode": {
    "name": "ipython",
    "version": 3
   },
   "file_extension": ".py",
   "mimetype": "text/x-python",
   "name": "python",
   "nbconvert_exporter": "python",
   "pygments_lexer": "ipython3",
   "version": "3.12.0"
  }
 },
 "nbformat": 4,
 "nbformat_minor": 2
}
